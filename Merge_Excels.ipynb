{
 "cells": [
  {
   "cell_type": "markdown",
   "metadata": {},
   "source": [
    "#### Type 1: Read multiple excels with mutiple sheets and append them into single excel with Multiple sheets.\n",
    "\n",
    "- All the sheets within each excel will remain intact in the output\n",
    "- glob library is used to search \n"
   ]
  },
  {
   "cell_type": "code",
   "execution_count": 1,
   "metadata": {},
   "outputs": [],
   "source": [
    "from pandas import ExcelWriter\n",
    "import glob\n",
    "import os\n",
    "import pandas as pd\n",
    "\n",
    "writer = ExcelWriter(\"Multiple_Sheet_Excel.xlsx\")\n",
    "\n",
    "for filename in glob.glob(\"*.xlsx\"):\n",
    "    \n",
    "    excel_file = pd.ExcelFile(filename)\n",
    "    (_, f_name) = os.path.split(filename)\n",
    "    \n",
    "    (f_short_name, f_dump1) = os.path.splitext(filename)\n",
    "    \n",
    "#     Sheet name should be < 31 chars. Replace sheet name accordingly \n",
    "    for sheet_name in excel_file.sheet_names:\n",
    "        df_excel = pd.read_excel(filename, sheet_name=sheet_name)\n",
    "        df_excel.to_excel(writer, sheet_name = f_short_name+'_'+sheet_name, index=False)\n",
    "\n",
    "writer.save()"
   ]
  },
  {
   "cell_type": "markdown",
   "metadata": {},
   "source": [
    "#### Type 2: Read excel files and append them to a single sheet\n",
    "\n",
    "- All the sheets across the excels are merged into a single file and single sheet\n",
    "- os library used for search.\n",
    "\n"
   ]
  },
  {
   "cell_type": "code",
   "execution_count": 2,
   "metadata": {},
   "outputs": [],
   "source": [
    "import os\n",
    "\n",
    "cwd = os.path.abspath('')  # Current Directory\n",
    "files = os.listdir(cwd)  # All files in directory\n",
    "\n",
    "df_total = pd.DataFrame()\n",
    "df_final = pd.DataFrame()\n",
    "\n",
    "for file in files:  # loop through Excel files\n",
    "    if file.endswith('.xlsx'):\n",
    "        excel_file = pd.ExcelFile(file)\n",
    "        sheets = excel_file.sheet_names\n",
    "        \n",
    "        for i, sheet in enumerate(sheets,start=1): # loop through sheets inside an Excel file            \n",
    "            sheet1 = pd.read_excel(file, sheet, header=None)\n",
    "            df_total = pd.concat([df_total,sheet1])\n",
    "    \n",
    "# 'Consolidated' is the name of the sheet. \n",
    "# Header and Index will not be present in output file. Set to true if required.\n",
    "df_total.to_excel('Single_Sheet_Excel.xlsx','Consolidated',header=False,index=False,)"
   ]
  }
 ],
 "metadata": {
  "kernelspec": {
   "display_name": "Python 3",
   "language": "python",
   "name": "python3"
  },
  "language_info": {
   "codemirror_mode": {
    "name": "ipython",
    "version": 3
   },
   "file_extension": ".py",
   "mimetype": "text/x-python",
   "name": "python",
   "nbconvert_exporter": "python",
   "pygments_lexer": "ipython3",
   "version": "3.7.7"
  }
 },
 "nbformat": 4,
 "nbformat_minor": 4
}
