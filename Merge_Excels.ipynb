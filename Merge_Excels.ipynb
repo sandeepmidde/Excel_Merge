{
 "cells": [
  {
   "cell_type": "code",
   "execution_count": 1,
   "metadata": {},
   "outputs": [],
   "source": [
    "from pandas import ExcelWriter\n",
    "import glob\n",
    "import os\n",
    "import pandas as pd\n",
    "\n",
    "writer = ExcelWriter(\"Merged_Excel.xlsx\")\n",
    "\n",
    "for filename in glob.glob(\"*.xlsx\"):\n",
    "    \n",
    "    excel_file = pd.ExcelFile(filename)\n",
    "    (_, f_name) = os.path.split(filename)\n",
    "    \n",
    "    (f_short_name, f_dump1) = os.path.splitext(filename)\n",
    "    \n",
    "        \n",
    "    for sheet_name in excel_file.sheet_names:\n",
    "        df_excel = pd.read_excel(filename, sheet_name=sheet_name)\n",
    "        df_excel.to_excel(writer, sheet_name = f_short_name+'_'+sheet_name, index=False)\n",
    "\n",
    "writer.save()"
   ]
  },
  {
   "cell_type": "code",
   "execution_count": null,
   "metadata": {},
   "outputs": [],
   "source": []
  }
 ],
 "metadata": {
  "kernelspec": {
   "display_name": "Python 3",
   "language": "python",
   "name": "python3"
  },
  "language_info": {
   "codemirror_mode": {
    "name": "ipython",
    "version": 3
   },
   "file_extension": ".py",
   "mimetype": "text/x-python",
   "name": "python",
   "nbconvert_exporter": "python",
   "pygments_lexer": "ipython3",
   "version": "3.7.7"
  }
 },
 "nbformat": 4,
 "nbformat_minor": 4
}
